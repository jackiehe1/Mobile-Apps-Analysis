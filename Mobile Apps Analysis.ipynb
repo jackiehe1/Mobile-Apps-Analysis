{
 "cells": [
  {
   "cell_type": "markdown",
   "metadata": {
    "colab_type": "text",
    "id": "BbNlkiA8dw2i"
   },
   "source": [
    "# Profitable App Profiles for the App Store and Google Play Markets\n",
    "\n",
    "The purpose of this notebook is to perform data analysis on mobile apps on the App Store and on Google Play and to find apps that are profitable in these markets.\n",
    "\n",
    "## Data\n",
    "\n",
    "- [Data set](https://www.kaggle.com/lava18/google-play-store-apps) containing data approximately 10,000 Android apps from Google Play.\n",
    "    - [Direct Link](https://dq-content.s3.amazonaws.com/350/googleplaystore.csv).\n",
    "- [Data set](https://www.kaggle.com/ramamet4/app-store-apple-data-set-10k-apps) containing data approximately 7,000 iOS apps from the App Store. \n",
    "    - [Direct Link](https://dq-content.s3.amazonaws.com/350/AppleStore.csv)."
   ]
  },
  {
   "cell_type": "code",
   "execution_count": 1,
   "metadata": {
    "colab": {},
    "colab_type": "code",
    "id": "g5xdxIaYdw2j"
   },
   "outputs": [],
   "source": [
    "from csv import reader\n",
    "\n",
    "### The Google Play data set ###\n",
    "opened_file = open('googleplaystore.csv', encoding=\"utf8\")\n",
    "read_file = reader(opened_file)\n",
    "android_apps = list(read_file)\n",
    "android_apps_header = android_apps[0]\n",
    "android_apps = android_apps[1:]\n",
    "\n",
    "### The App Store data set ###\n",
    "opened_file = open('AppleStore.csv', encoding=\"utf8\")\n",
    "read_file = reader(opened_file)\n",
    "ios_apps = list(read_file)\n",
    "ios_apps_header = ios_apps[0]\n",
    "ios_apps = ios_apps[1:]"
   ]
  },
  {
   "cell_type": "markdown",
   "metadata": {
    "colab_type": "text",
    "id": "FeTuoAYVdw2n"
   },
   "source": [
    "In order to facilitate the exploration of the two data sets, we will create a function called read_data(). This function will allow us to explore the rows in a more comprehensible manner, and we will incorporate an additional feature that displays the number of rows and columns for any given data set. This will enable us to reuse the function conveniently whenever needed."
   ]
  },
  {
   "cell_type": "code",
   "execution_count": 2,
   "metadata": {
    "colab": {},
    "colab_type": "code",
    "id": "h22cRL40dw2p",
    "outputId": "21e603e4-b988-48dc-f8ec-069949de1e84"
   },
   "outputs": [
    {
     "name": "stdout",
     "output_type": "stream",
     "text": [
      "['App', 'Category', 'Rating', 'Reviews', 'Size', 'Installs', 'Type', 'Price', 'Content Rating', 'Genres', 'Last Updated', 'Current Ver', 'Android Ver']\n",
      "\n",
      "\n",
      "Row 0: ['Photo Editor & Candy Camera & Grid & ScrapBook', 'ART_AND_DESIGN', '4.1', '159', '19M', '10,000+', 'Free', '0', 'Everyone', 'Art & Design', 'January 7, 2018', '1.0.0', '4.0.3 and up']\n",
      "\n",
      "Number of rows: 10841\n",
      "Number of columns: 13\n"
     ]
    }
   ],
   "source": [
    "def read_data(dataset, start, end, rows_and_columns=False, num_columns=None):\n",
    "    for index, row in enumerate(dataset[start:end], start=start):\n",
    "        print(f\"Row {index}: {row}\\n\")\n",
    "        \n",
    "    if rows_and_columns:\n",
    "        num_rows = len(dataset)\n",
    "        num_columns = num_columns if num_columns is not None else len(dataset[0])\n",
    "        print('Number of rows:', num_rows)\n",
    "        print('Number of columns:', num_columns)\n",
    "\n",
    "print(android_apps_header)\n",
    "print('\\n')\n",
    "read_data(android_apps, 0, 1, True)"
   ]
  },
  {
   "cell_type": "markdown",
   "metadata": {
    "colab_type": "text",
    "id": "O1yZOnuXdw2x"
   },
   "source": [
    "Relevant columns could be `'App'`, `'Category'`, `'Reviews'`, `'Installs'`, `'Type'`, `'Price'`, and `'Genres'`."
   ]
  },
  {
   "cell_type": "code",
   "execution_count": 3,
   "metadata": {
    "colab": {},
    "colab_type": "code",
    "id": "8Gb1lsaAdw2y",
    "outputId": "715331b0-6c15-4e28-8f0c-e876f16c3e29"
   },
   "outputs": [
    {
     "name": "stdout",
     "output_type": "stream",
     "text": [
      "['id', 'track_name', 'size_bytes', 'currency', 'price', 'rating_count_tot', 'rating_count_ver', 'user_rating', 'user_rating_ver', 'ver', 'cont_rating', 'prime_genre', 'sup_devices.num', 'ipadSc_urls.num', 'lang.num', 'vpp_lic']\n",
      "\n",
      "\n",
      "Row 0: ['284882215', 'Facebook', '389879808', 'USD', '0.0', '2974676', '212', '3.5', '3.5', '95.0', '4+', 'Social Networking', '37', '1', '29', '1']\n",
      "\n",
      "Number of rows: 7197\n",
      "Number of columns: 16\n"
     ]
    }
   ],
   "source": [
    "print(ios_apps_header)\n",
    "print('\\n')\n",
    "read_data(ios_apps, 0, 1, True)"
   ]
  },
  {
   "cell_type": "markdown",
   "metadata": {
    "colab_type": "text",
    "id": "4nJCxwvydw22"
   },
   "source": [
    "Relevant columns in the IOS apps data could be `'track_name'`, `'currency'`, `'price'`, `'rating_count_tot'`, `'rating_count_ver'`, and `'prime_genre'`.\n",
    "[documentation](https://www.kaggle.com/ramamet4/app-store-apple-data-set-10k-apps/home)."
   ]
  },
  {
   "cell_type": "markdown",
   "metadata": {},
   "source": [
    "In this [discussion](https://www.kaggle.com/lava18/google-play-store-apps/discussion/66015), there is an error on row 10472 where the app has a rating of 19:"
   ]
  },
  {
   "cell_type": "code",
   "execution_count": 4,
   "metadata": {
    "colab": {},
    "colab_type": "code",
    "id": "cJxTPUn2dw23",
    "outputId": "1b752112-0fca-4303-d573-b18d1fb3d17a"
   },
   "outputs": [
    {
     "name": "stdout",
     "output_type": "stream",
     "text": [
      "['Life Made WI-Fi Touchscreen Photo Frame', '1.9', '19', '3.0M', '1,000+', 'Free', '0', 'Everyone', '', 'February 11, 2018', '1.0.19', '4.0 and up']\n",
      "\n",
      "\n",
      "['App', 'Category', 'Rating', 'Reviews', 'Size', 'Installs', 'Type', 'Price', 'Content Rating', 'Genres', 'Last Updated', 'Current Ver', 'Android Ver']\n",
      "10841\n",
      "10840\n"
     ]
    }
   ],
   "source": [
    "print(android_apps[10472])  # incorrect row\n",
    "print('\\n')\n",
    "print(android_apps_header)  # header\n",
    "print(len(android_apps))\n",
    "del android_apps[10472]  # delete this row\n",
    "print(len(android_apps))"
   ]
  },
  {
   "cell_type": "markdown",
   "metadata": {
    "colab_type": "text",
    "id": "dE2D3beidw3G"
   },
   "source": [
    "## Remove Duplicate Entries"
   ]
  },
  {
   "cell_type": "code",
   "execution_count": 6,
   "metadata": {
    "colab": {},
    "colab_type": "code",
    "id": "BDUzP8jRdw3M",
    "outputId": "db3dce62-70db-42b0-cd7c-0f2ba2c84403"
   },
   "outputs": [
    {
     "name": "stdout",
     "output_type": "stream",
     "text": [
      "Number of duplicate apps: 1181\n",
      "\n",
      "\n",
      "Examples of duplicate apps: ['Quick PDF Scanner + OCR FREE', 'Box', 'Google My Business', 'ZOOM Cloud Meetings', 'join.me - Simple Meetings']\n"
     ]
    }
   ],
   "source": [
    "duplicate_apps = []\n",
    "unique_apps = []\n",
    "\n",
    "for app in android_apps:\n",
    "    name = app[0]\n",
    "    if name in unique_apps:\n",
    "        duplicate_apps.append(name)\n",
    "    else:\n",
    "        unique_apps.append(name)\n",
    "    \n",
    "print('Number of duplicate apps:', len(duplicate_apps))\n",
    "print('\\n')\n",
    "print('Examples of duplicate apps:', duplicate_apps[:5])"
   ]
  },
  {
   "cell_type": "markdown",
   "metadata": {
    "colab_type": "text",
    "id": "xnPJT7Xmdw3R"
   },
   "source": [
    "We don't want to count the apps more than once when we analyze the data, so we need to remove the duplicate entries. We'll keep the rows that have the highest number of reviews because the higher the number of reviews, the more reliable the ratings."
   ]
  },
  {
   "cell_type": "code",
   "execution_count": 7,
   "metadata": {
    "colab": {},
    "colab_type": "code",
    "id": "TYBPi8d9dw3T"
   },
   "outputs": [
    {
     "name": "stdout",
     "output_type": "stream",
     "text": [
      "Expected dictionary length: 9659\n",
      "Actual dictionary length: 9659\n"
     ]
    }
   ],
   "source": [
    "#use a dictionary to create a new clean dataset, where each key is the app name and the value is the max(n_reviews)\n",
    "reviews_max = {}\n",
    "\n",
    "for app in android_apps:\n",
    "    name = app[0]\n",
    "    n_reviews = float(app[3])\n",
    "    \n",
    "    if name in reviews_max and reviews_max[name] < n_reviews:\n",
    "        reviews_max[name] = n_reviews\n",
    "    elif name not in reviews_max:\n",
    "        reviews_max[name] = n_reviews\n",
    "\n",
    "print('Expected dictionary length:', len(android_apps) - 1181)\n",
    "print('Actual dictionary length:', len(reviews_max))"
   ]
  },
  {
   "cell_type": "code",
   "execution_count": 8,
   "metadata": {
    "colab": {},
    "colab_type": "code",
    "id": "pRuxSg3Ddw3Z"
   },
   "outputs": [],
   "source": [
    "android_apps_clean = []\n",
    "already_added = []\n",
    "\n",
    "#use reviews_max to remove the duplicates\n",
    "for app in android_apps:\n",
    "    name = app[0]\n",
    "    n_reviews = float(app[3])\n",
    "    \n",
    "    if (reviews_max[name] == n_reviews) and (name not in already_added):\n",
    "        android_apps_clean.append(app)\n",
    "        already_added.append(name)"
   ]
  },
  {
   "cell_type": "code",
   "execution_count": 9,
   "metadata": {
    "colab": {},
    "colab_type": "code",
    "id": "8xMT6nWtdw3c",
    "outputId": "498cc044-c355-4a65-9d2e-9e6c07923d24"
   },
   "outputs": [
    {
     "name": "stdout",
     "output_type": "stream",
     "text": [
      "Row 0: ['Photo Editor & Candy Camera & Grid & ScrapBook', 'ART_AND_DESIGN', '4.1', '159', '19M', '10,000+', 'Free', '0', 'Everyone', 'Art & Design', 'January 7, 2018', '1.0.0', '4.0.3 and up']\n",
      "\n",
      "Number of rows: 9659\n",
      "Number of columns: 13\n"
     ]
    }
   ],
   "source": [
    "read_data(android_apps_clean, 0, 1, True)"
   ]
  },
  {
   "cell_type": "markdown",
   "metadata": {
    "colab_type": "text",
    "id": "X1meBiKtdw36"
   },
   "source": [
    "## Free Apps\n",
    "\n",
    "We can separate free apps and paid apps and analyze them differently. I am assuming that paid apps would be profitable and will perform analysis on paid apps later. I will begin by looking at free apps first since the profitability for these apps would be highly determined by the amount of users as their main source of revenue would be from ads."
   ]
  },
  {
   "cell_type": "code",
   "execution_count": 15,
   "metadata": {
    "colab": {},
    "colab_type": "code",
    "id": "4TXBzJVwdw38",
    "outputId": "f1c6694d-b2c1-4f89-a455-52ce2f1da0cf"
   },
   "outputs": [
    {
     "name": "stdout",
     "output_type": "stream",
     "text": [
      "4623\n",
      "2851\n"
     ]
    }
   ],
   "source": [
    "android_apps_final = []\n",
    "ios_apps_final = []\n",
    "\n",
    "for app in android_apps_clean[0:5000]:\n",
    "    price = app[7]\n",
    "    if price == '0':\n",
    "        android_apps_final.append(app)\n",
    "        \n",
    "for app in ios_apps[0:5000]:\n",
    "    price = app[4]\n",
    "    if price == '0.0':\n",
    "        ios_apps_final.append(app)\n",
    "        \n",
    "print(len(android_apps_final))\n",
    "print(len(ios_apps_final))"
   ]
  },
  {
   "cell_type": "markdown",
   "metadata": {
    "colab_type": "text",
    "id": "wQhOlVV0dw3-"
   },
   "source": [
    "## Most Common Apps by Genre\n",
    "\n",
    "To start our analysis, we will determine the most common genres in each market. To achieve this, we'll create frequency tables for the `prime_genre` column in the App Store dataset, and the `Genres` and `Category` columns in the Google Play dataset.\n",
    "\n",
    "To aid our analysis, we'll develop two functions:\n",
    "\n",
    "1. First function will generate frequency tables, showing the percentages of each genre or category.\n",
    "2. Second function will display the percentages in descending order, allowing us to identify the most prevalent genres or categories.\n",
    "\n",
    "By utilizing these functions, we can gain valuable insights into the popular app genres in each market, helping us identify potential app profiles that could be successful across both markets."
   ]
  },
  {
   "cell_type": "code",
   "execution_count": 27,
   "metadata": {
    "colab": {},
    "colab_type": "code",
    "id": "7CTAV3ULdw3_"
   },
   "outputs": [],
   "source": [
    "from collections import Counter\n",
    "\n",
    "def freq_table(dataset, index):\n",
    "    total = len(dataset)\n",
    "    counts = Counter(row[index] for row in dataset)\n",
    "    \n",
    "    table_percentages = {key: (count / total) * 100 for key, count in counts.items()}\n",
    "    \n",
    "    return table_percentages\n",
    "\n",
    "\n",
    "def display_table(dataset, index):\n",
    "    table = freq_table(dataset, index)\n",
    "    table_sorted = sorted(table.items(), key=lambda x: x[1], reverse=True)\n",
    "    for key, value in table_sorted:\n",
    "        print(f\"{key}: {value}\")"
   ]
  },
  {
   "cell_type": "markdown",
   "metadata": {},
   "source": [
    "## Analysis"
   ]
  }
 ],
 "metadata": {
  "colab": {
   "collapsed_sections": [
    "nxHDmzy-dw4B"
   ],
   "name": "Mission350Solutions.ipynb",
   "provenance": [],
   "version": "0.3.2"
  },
  "kernelspec": {
   "display_name": "Python 3 (ipykernel)",
   "language": "python",
   "name": "python3"
  },
  "language_info": {
   "codemirror_mode": {
    "name": "ipython",
    "version": 3
   },
   "file_extension": ".py",
   "mimetype": "text/x-python",
   "name": "python",
   "nbconvert_exporter": "python",
   "pygments_lexer": "ipython3",
   "version": "3.9.7"
  }
 },
 "nbformat": 4,
 "nbformat_minor": 4
}
